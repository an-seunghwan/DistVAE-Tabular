{
 "cells": [
  {
   "cell_type": "code",
   "execution_count": 6,
   "metadata": {},
   "outputs": [],
   "source": [
    "\"\"\"device setting\"\"\"\n",
    "import torch\n",
    "device = torch.device('cuda' if torch.cuda.is_available() else 'cpu')"
   ]
  },
  {
   "cell_type": "code",
   "execution_count": 2,
   "metadata": {},
   "outputs": [],
   "source": [
    "\"\"\"load dataset\"\"\"\n",
    "import pandas as pd\n",
    "data = pd.read_csv('./loan.csv')        \n",
    "continuous_features = [\n",
    "    'Age',\n",
    "    'Experience',\n",
    "    'Income', \n",
    "    'CCAvg',\n",
    "    'Mortgage',\n",
    "]\n",
    "categorical_features = [\n",
    "    'Family',\n",
    "    'Personal Loan',\n",
    "    'Securities Account',\n",
    "    'CD Account',\n",
    "    'Online',\n",
    "    'CreditCard'\n",
    "]\n",
    "integer_features = [\n",
    "    'Age',\n",
    "    'Experience',\n",
    "    'Income', \n",
    "    'Mortgage'\n",
    "]\n",
    "data = data[continuous_features + categorical_features]\n",
    "ClfTarget = \"Personal Loan\""
   ]
  },
  {
   "cell_type": "code",
   "execution_count": 3,
   "metadata": {},
   "outputs": [
    {
     "name": "stderr",
     "output_type": "stream",
     "text": [
      "Tranform Continuous Features...: 100%|██████████| 5/5 [00:00<00:00, 648.07it/s]\n"
     ]
    }
   ],
   "source": [
    "\"\"\"DistVAE\"\"\"\n",
    "from distvae_tabular import distvae\n",
    "\n",
    "distvae = distvae.DistVAE(\n",
    "    data,\n",
    "    continuous_features,\n",
    "    categorical_features,\n",
    "    integer_features,\n",
    "    ClfTarget,\n",
    "    epochs=5 # for quick checking\n",
    ")"
   ]
  },
  {
   "cell_type": "code",
   "execution_count": 4,
   "metadata": {},
   "outputs": [
    {
     "name": "stderr",
     "output_type": "stream",
     "text": [
      "inner loop: 100%|██████████| 20/20 [00:00<00:00, 73.08it/s]\n"
     ]
    },
    {
     "name": "stdout",
     "output_type": "stream",
     "text": [
      "Epoch [001/5], loss: 5.7966, recon: 5.7467, KL: 0.4995, activated: 0.0000\n"
     ]
    },
    {
     "name": "stderr",
     "output_type": "stream",
     "text": [
      "inner loop: 100%|██████████| 20/20 [00:00<00:00, 86.49it/s]\n"
     ]
    },
    {
     "name": "stdout",
     "output_type": "stream",
     "text": [
      "Epoch [002/5], loss: 5.0617, recon: 5.0096, KL: 0.5211, activated: 0.0000\n"
     ]
    },
    {
     "name": "stderr",
     "output_type": "stream",
     "text": [
      "inner loop: 100%|██████████| 20/20 [00:00<00:00, 87.40it/s]\n"
     ]
    },
    {
     "name": "stdout",
     "output_type": "stream",
     "text": [
      "Epoch [003/5], loss: 4.6629, recon: 4.4842, KL: 1.7873, activated: 0.0000\n"
     ]
    },
    {
     "name": "stderr",
     "output_type": "stream",
     "text": [
      "inner loop: 100%|██████████| 20/20 [00:00<00:00, 88.42it/s]\n"
     ]
    },
    {
     "name": "stdout",
     "output_type": "stream",
     "text": [
      "Epoch [004/5], loss: 4.3299, recon: 4.0417, KL: 2.8816, activated: 0.0003\n"
     ]
    },
    {
     "name": "stderr",
     "output_type": "stream",
     "text": [
      "inner loop: 100%|██████████| 20/20 [00:00<00:00, 90.36it/s]"
     ]
    },
    {
     "name": "stdout",
     "output_type": "stream",
     "text": [
      "Epoch [005/5], loss: 3.7221, recon: 3.2036, KL: 5.1849, activated: 0.0017\n"
     ]
    },
    {
     "name": "stderr",
     "output_type": "stream",
     "text": [
      "\n"
     ]
    }
   ],
   "source": [
    "\"\"\"training\"\"\"\n",
    "distvae.train()"
   ]
  },
  {
   "cell_type": "code",
   "execution_count": 5,
   "metadata": {},
   "outputs": [
    {
     "name": "stderr",
     "output_type": "stream",
     "text": [
      "Generate Synthetic Dataset...: 100%|██████████| 1/1 [00:00<00:00, 180.31it/s]\n"
     ]
    },
    {
     "data": {
      "text/html": [
       "<div>\n",
       "<style scoped>\n",
       "    .dataframe tbody tr th:only-of-type {\n",
       "        vertical-align: middle;\n",
       "    }\n",
       "\n",
       "    .dataframe tbody tr th {\n",
       "        vertical-align: top;\n",
       "    }\n",
       "\n",
       "    .dataframe thead th {\n",
       "        text-align: right;\n",
       "    }\n",
       "</style>\n",
       "<table border=\"1\" class=\"dataframe\">\n",
       "  <thead>\n",
       "    <tr style=\"text-align: right;\">\n",
       "      <th></th>\n",
       "      <th>Age</th>\n",
       "      <th>Experience</th>\n",
       "      <th>Income</th>\n",
       "      <th>CCAvg</th>\n",
       "      <th>Mortgage</th>\n",
       "      <th>Family</th>\n",
       "      <th>Personal Loan</th>\n",
       "      <th>Securities Account</th>\n",
       "      <th>CD Account</th>\n",
       "      <th>Online</th>\n",
       "      <th>CreditCard</th>\n",
       "    </tr>\n",
       "  </thead>\n",
       "  <tbody>\n",
       "    <tr>\n",
       "      <th>0</th>\n",
       "      <td>34</td>\n",
       "      <td>7</td>\n",
       "      <td>139</td>\n",
       "      <td>3.254932</td>\n",
       "      <td>21</td>\n",
       "      <td>1</td>\n",
       "      <td>1</td>\n",
       "      <td>0</td>\n",
       "      <td>0</td>\n",
       "      <td>1</td>\n",
       "      <td>1</td>\n",
       "    </tr>\n",
       "    <tr>\n",
       "      <th>1</th>\n",
       "      <td>50</td>\n",
       "      <td>22</td>\n",
       "      <td>72</td>\n",
       "      <td>2.179548</td>\n",
       "      <td>28</td>\n",
       "      <td>2</td>\n",
       "      <td>0</td>\n",
       "      <td>1</td>\n",
       "      <td>0</td>\n",
       "      <td>1</td>\n",
       "      <td>0</td>\n",
       "    </tr>\n",
       "    <tr>\n",
       "      <th>2</th>\n",
       "      <td>38</td>\n",
       "      <td>8</td>\n",
       "      <td>-34</td>\n",
       "      <td>-1.509090</td>\n",
       "      <td>6</td>\n",
       "      <td>2</td>\n",
       "      <td>0</td>\n",
       "      <td>0</td>\n",
       "      <td>0</td>\n",
       "      <td>0</td>\n",
       "      <td>0</td>\n",
       "    </tr>\n",
       "    <tr>\n",
       "      <th>3</th>\n",
       "      <td>43</td>\n",
       "      <td>22</td>\n",
       "      <td>92</td>\n",
       "      <td>3.371486</td>\n",
       "      <td>4</td>\n",
       "      <td>1</td>\n",
       "      <td>0</td>\n",
       "      <td>1</td>\n",
       "      <td>0</td>\n",
       "      <td>1</td>\n",
       "      <td>0</td>\n",
       "    </tr>\n",
       "    <tr>\n",
       "      <th>4</th>\n",
       "      <td>46</td>\n",
       "      <td>21</td>\n",
       "      <td>66</td>\n",
       "      <td>1.273987</td>\n",
       "      <td>19</td>\n",
       "      <td>2</td>\n",
       "      <td>0</td>\n",
       "      <td>0</td>\n",
       "      <td>0</td>\n",
       "      <td>0</td>\n",
       "      <td>0</td>\n",
       "    </tr>\n",
       "    <tr>\n",
       "      <th>...</th>\n",
       "      <td>...</td>\n",
       "      <td>...</td>\n",
       "      <td>...</td>\n",
       "      <td>...</td>\n",
       "      <td>...</td>\n",
       "      <td>...</td>\n",
       "      <td>...</td>\n",
       "      <td>...</td>\n",
       "      <td>...</td>\n",
       "      <td>...</td>\n",
       "      <td>...</td>\n",
       "    </tr>\n",
       "    <tr>\n",
       "      <th>95</th>\n",
       "      <td>44</td>\n",
       "      <td>33</td>\n",
       "      <td>63</td>\n",
       "      <td>-0.104313</td>\n",
       "      <td>-6</td>\n",
       "      <td>2</td>\n",
       "      <td>0</td>\n",
       "      <td>0</td>\n",
       "      <td>0</td>\n",
       "      <td>1</td>\n",
       "      <td>0</td>\n",
       "    </tr>\n",
       "    <tr>\n",
       "      <th>96</th>\n",
       "      <td>46</td>\n",
       "      <td>21</td>\n",
       "      <td>120</td>\n",
       "      <td>4.064387</td>\n",
       "      <td>105</td>\n",
       "      <td>1</td>\n",
       "      <td>0</td>\n",
       "      <td>0</td>\n",
       "      <td>0</td>\n",
       "      <td>1</td>\n",
       "      <td>0</td>\n",
       "    </tr>\n",
       "    <tr>\n",
       "      <th>97</th>\n",
       "      <td>37</td>\n",
       "      <td>19</td>\n",
       "      <td>91</td>\n",
       "      <td>2.906864</td>\n",
       "      <td>131</td>\n",
       "      <td>2</td>\n",
       "      <td>0</td>\n",
       "      <td>0</td>\n",
       "      <td>0</td>\n",
       "      <td>0</td>\n",
       "      <td>1</td>\n",
       "    </tr>\n",
       "    <tr>\n",
       "      <th>98</th>\n",
       "      <td>52</td>\n",
       "      <td>17</td>\n",
       "      <td>161</td>\n",
       "      <td>3.737992</td>\n",
       "      <td>102</td>\n",
       "      <td>3</td>\n",
       "      <td>0</td>\n",
       "      <td>0</td>\n",
       "      <td>0</td>\n",
       "      <td>1</td>\n",
       "      <td>1</td>\n",
       "    </tr>\n",
       "    <tr>\n",
       "      <th>99</th>\n",
       "      <td>45</td>\n",
       "      <td>29</td>\n",
       "      <td>58</td>\n",
       "      <td>0.485119</td>\n",
       "      <td>58</td>\n",
       "      <td>3</td>\n",
       "      <td>0</td>\n",
       "      <td>0</td>\n",
       "      <td>0</td>\n",
       "      <td>1</td>\n",
       "      <td>0</td>\n",
       "    </tr>\n",
       "  </tbody>\n",
       "</table>\n",
       "<p>100 rows × 11 columns</p>\n",
       "</div>"
      ],
      "text/plain": [
       "    Age  Experience  Income     CCAvg  Mortgage  Family  Personal Loan  \\\n",
       "0    34           7     139  3.254932        21       1              1   \n",
       "1    50          22      72  2.179548        28       2              0   \n",
       "2    38           8     -34 -1.509090         6       2              0   \n",
       "3    43          22      92  3.371486         4       1              0   \n",
       "4    46          21      66  1.273987        19       2              0   \n",
       "..  ...         ...     ...       ...       ...     ...            ...   \n",
       "95   44          33      63 -0.104313        -6       2              0   \n",
       "96   46          21     120  4.064387       105       1              0   \n",
       "97   37          19      91  2.906864       131       2              0   \n",
       "98   52          17     161  3.737992       102       3              0   \n",
       "99   45          29      58  0.485119        58       3              0   \n",
       "\n",
       "    Securities Account  CD Account  Online  CreditCard  \n",
       "0                    0           0       1           1  \n",
       "1                    1           0       1           0  \n",
       "2                    0           0       0           0  \n",
       "3                    1           0       1           0  \n",
       "4                    0           0       0           0  \n",
       "..                 ...         ...     ...         ...  \n",
       "95                   0           0       1           0  \n",
       "96                   0           0       1           0  \n",
       "97                   0           0       0           1  \n",
       "98                   0           0       1           1  \n",
       "99                   0           0       1           0  \n",
       "\n",
       "[100 rows x 11 columns]"
      ]
     },
     "execution_count": 5,
     "metadata": {},
     "output_type": "execute_result"
    }
   ],
   "source": [
    "\"\"\"generate synthetic data\"\"\"\n",
    "syndata = distvae.generate_data(100)\n",
    "syndata"
   ]
  },
  {
   "cell_type": "code",
   "execution_count": null,
   "metadata": {},
   "outputs": [],
   "source": []
  }
 ],
 "metadata": {
  "kernelspec": {
   "display_name": "pypi1",
   "language": "python",
   "name": "python3"
  },
  "language_info": {
   "codemirror_mode": {
    "name": "ipython",
    "version": 3
   },
   "file_extension": ".py",
   "mimetype": "text/x-python",
   "name": "python",
   "nbconvert_exporter": "python",
   "pygments_lexer": "ipython3",
   "version": "3.11.9"
  }
 },
 "nbformat": 4,
 "nbformat_minor": 2
}
